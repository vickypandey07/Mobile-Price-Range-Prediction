{
  "nbformat": 4,
  "nbformat_minor": 0,
  "metadata": {
    "colab": {
      "name": "Mobile_Price_Range_Prediction_Vikram_Pandey_Capstone_Project_3.ipynb",
      "provenance": [],
      "include_colab_link": true
    },
    "kernelspec": {
      "name": "python3",
      "display_name": "Python 3"
    },
    "language_info": {
      "name": "python"
    }
  },
  "cells": [
    {
      "cell_type": "markdown",
      "metadata": {
        "id": "view-in-github",
        "colab_type": "text"
      },
      "source": [
        "<a href=\"https://colab.research.google.com/github/vickypandey07/Mobile-Price-Range-Prediction/blob/main/Mobile_Price_Range_Prediction_Vikram_Pandey_Capstone_Project_3.ipynb\" target=\"_parent\"><img src=\"https://colab.research.google.com/assets/colab-badge.svg\" alt=\"Open In Colab\"/></a>"
      ]
    },
    {
      "cell_type": "markdown",
      "metadata": {
        "id": "fA2H2Xpq8HOO"
      },
      "source": [
        "###**In the competitive mobile phone market companies want to understand sales data of mobile phones and factors which drive the prices. The objective is to find out some relation between features of a mobile phone and its selling price.**\n",
        "---\n",
        "###**Dataset Information**\n",
        "* Number of instances: 2000\n",
        "* Number of attributes: 21\n",
        "---\n",
        "###**Features information:**\n",
        "###The dataset contains features like:\n",
        "\n",
        "1. **Battery_power** - Total energy a battery can store in one time measured in mAh\n",
        "\n",
        "2. **Blue** - Has bluetooth or not\n",
        "\n",
        "3. **Clock_speed** - speed at which microprocessor executes instructions\n",
        "\n",
        "4. **Dual_sim** - Has dual sim support or not\n",
        "\n",
        "5. **Fc** - Front Camera mega pixels\n",
        "\n",
        "6. **Four_g** - Has 4G or not\n",
        "\n",
        "7. **Int_memory** - Internal Memory in Gigabytes\n",
        "\n",
        "8. **M_dep** - Mobile Depth in cm\n",
        "\n",
        "9. **Mobile_wt** - Weight of mobile phone\n",
        "\n",
        "10. **N_cores** - Number of cores of processor\n",
        "\n",
        "11. **Pc** - Primary Camera mega pixels\n",
        "\n",
        "12. **Px_height** - Pixel Resolution Height\n",
        "\n",
        "13. **Px_width** - Pixel Resolution Width\n",
        "\n",
        "14. **Ram** - Random Access Memory in Mega Bytes\n",
        "\n",
        "15. **Sc_h** - Screen Height of mobile in cm\n",
        "\n",
        "16. **Sc_w** - Screen Width of mobile in cm\n",
        "\n",
        "17. **Talk_time** - longest time that a single battery charge will last when you are on call\n",
        "\n",
        "18. **Three_g** - Has 3G or not\n",
        "\n",
        "19. **Touch_screen** - Has touch screen or not\n",
        "\n",
        "20. **Wifi** - Has wifi or not\n",
        "---\n",
        "###**Target Variable :**\n",
        "* **'Price_range'**: This is the target variable with value of 0(low cost), 1(medium cost),\n",
        "2(high cost) and 3(very high cost).\n",
        "---\n",
        "###**Goal: The main objective is to build a predictive model, which could help in predicting the price range of mobile phones.**"
      ]
    },
    {
      "cell_type": "markdown",
      "metadata": {
        "id": "rIuU3_yZ8Qnt"
      },
      "source": [
        "# **Let's Import the libraries**"
      ]
    },
    {
      "cell_type": "code",
      "metadata": {
        "id": "eIsql8c77wN5"
      },
      "source": [
        "# Importing libraries\n",
        "\n",
        "import numpy as np\n",
        "import pandas as pd\n",
        "%matplotlib inline\n",
        "import matplotlib.pyplot as plt\n",
        "import seaborn as sns\n",
        "\n",
        "# To supress the warnings\n",
        "\n",
        "import warnings\n",
        "warnings.filterwarnings('ignore')"
      ],
      "execution_count": 56,
      "outputs": []
    },
    {
      "cell_type": "markdown",
      "metadata": {
        "id": "yV3lBeb1DN0j"
      },
      "source": [
        "# **Loading Dataset**"
      ]
    },
    {
      "cell_type": "code",
      "metadata": {
        "colab": {
          "base_uri": "https://localhost:8080/"
        },
        "id": "rvnvrcoyP-aR",
        "outputId": "871ce94e-7353-4621-8ea0-aab5c6aedd22"
      },
      "source": [
        "from google.colab import drive\n",
        "drive.mount('/content/drive')"
      ],
      "execution_count": 57,
      "outputs": [
        {
          "output_type": "stream",
          "name": "stdout",
          "text": [
            "Drive already mounted at /content/drive; to attempt to forcibly remount, call drive.mount(\"/content/drive\", force_remount=True).\n"
          ]
        }
      ]
    },
    {
      "cell_type": "code",
      "metadata": {
        "id": "mVW_FyZi8Tpm"
      },
      "source": [
        "# Loading dataset and creating dataframe\n",
        "\n",
        "df = pd.read_csv('/content/drive/MyDrive/Copy of data_mobile_price_range.csv')"
      ],
      "execution_count": 58,
      "outputs": []
    },
    {
      "cell_type": "code",
      "metadata": {
        "colab": {
          "base_uri": "https://localhost:8080/",
          "height": 223
        },
        "id": "XBpCKb5mDyU8",
        "outputId": "2d8ab375-7f7b-4bd1-8681-80a8217c3c30"
      },
      "source": [
        "# Let's use head to look for  first five rows\n",
        "\n",
        "df.head()"
      ],
      "execution_count": 59,
      "outputs": [
        {
          "output_type": "execute_result",
          "data": {
            "text/html": [
              "<div>\n",
              "<style scoped>\n",
              "    .dataframe tbody tr th:only-of-type {\n",
              "        vertical-align: middle;\n",
              "    }\n",
              "\n",
              "    .dataframe tbody tr th {\n",
              "        vertical-align: top;\n",
              "    }\n",
              "\n",
              "    .dataframe thead th {\n",
              "        text-align: right;\n",
              "    }\n",
              "</style>\n",
              "<table border=\"1\" class=\"dataframe\">\n",
              "  <thead>\n",
              "    <tr style=\"text-align: right;\">\n",
              "      <th></th>\n",
              "      <th>battery_power</th>\n",
              "      <th>blue</th>\n",
              "      <th>clock_speed</th>\n",
              "      <th>dual_sim</th>\n",
              "      <th>fc</th>\n",
              "      <th>four_g</th>\n",
              "      <th>int_memory</th>\n",
              "      <th>m_dep</th>\n",
              "      <th>mobile_wt</th>\n",
              "      <th>n_cores</th>\n",
              "      <th>pc</th>\n",
              "      <th>px_height</th>\n",
              "      <th>px_width</th>\n",
              "      <th>ram</th>\n",
              "      <th>sc_h</th>\n",
              "      <th>sc_w</th>\n",
              "      <th>talk_time</th>\n",
              "      <th>three_g</th>\n",
              "      <th>touch_screen</th>\n",
              "      <th>wifi</th>\n",
              "      <th>price_range</th>\n",
              "    </tr>\n",
              "  </thead>\n",
              "  <tbody>\n",
              "    <tr>\n",
              "      <th>0</th>\n",
              "      <td>842</td>\n",
              "      <td>0</td>\n",
              "      <td>2.2</td>\n",
              "      <td>0</td>\n",
              "      <td>1</td>\n",
              "      <td>0</td>\n",
              "      <td>7</td>\n",
              "      <td>0.6</td>\n",
              "      <td>188</td>\n",
              "      <td>2</td>\n",
              "      <td>2</td>\n",
              "      <td>20</td>\n",
              "      <td>756</td>\n",
              "      <td>2549</td>\n",
              "      <td>9</td>\n",
              "      <td>7</td>\n",
              "      <td>19</td>\n",
              "      <td>0</td>\n",
              "      <td>0</td>\n",
              "      <td>1</td>\n",
              "      <td>1</td>\n",
              "    </tr>\n",
              "    <tr>\n",
              "      <th>1</th>\n",
              "      <td>1021</td>\n",
              "      <td>1</td>\n",
              "      <td>0.5</td>\n",
              "      <td>1</td>\n",
              "      <td>0</td>\n",
              "      <td>1</td>\n",
              "      <td>53</td>\n",
              "      <td>0.7</td>\n",
              "      <td>136</td>\n",
              "      <td>3</td>\n",
              "      <td>6</td>\n",
              "      <td>905</td>\n",
              "      <td>1988</td>\n",
              "      <td>2631</td>\n",
              "      <td>17</td>\n",
              "      <td>3</td>\n",
              "      <td>7</td>\n",
              "      <td>1</td>\n",
              "      <td>1</td>\n",
              "      <td>0</td>\n",
              "      <td>2</td>\n",
              "    </tr>\n",
              "    <tr>\n",
              "      <th>2</th>\n",
              "      <td>563</td>\n",
              "      <td>1</td>\n",
              "      <td>0.5</td>\n",
              "      <td>1</td>\n",
              "      <td>2</td>\n",
              "      <td>1</td>\n",
              "      <td>41</td>\n",
              "      <td>0.9</td>\n",
              "      <td>145</td>\n",
              "      <td>5</td>\n",
              "      <td>6</td>\n",
              "      <td>1263</td>\n",
              "      <td>1716</td>\n",
              "      <td>2603</td>\n",
              "      <td>11</td>\n",
              "      <td>2</td>\n",
              "      <td>9</td>\n",
              "      <td>1</td>\n",
              "      <td>1</td>\n",
              "      <td>0</td>\n",
              "      <td>2</td>\n",
              "    </tr>\n",
              "    <tr>\n",
              "      <th>3</th>\n",
              "      <td>615</td>\n",
              "      <td>1</td>\n",
              "      <td>2.5</td>\n",
              "      <td>0</td>\n",
              "      <td>0</td>\n",
              "      <td>0</td>\n",
              "      <td>10</td>\n",
              "      <td>0.8</td>\n",
              "      <td>131</td>\n",
              "      <td>6</td>\n",
              "      <td>9</td>\n",
              "      <td>1216</td>\n",
              "      <td>1786</td>\n",
              "      <td>2769</td>\n",
              "      <td>16</td>\n",
              "      <td>8</td>\n",
              "      <td>11</td>\n",
              "      <td>1</td>\n",
              "      <td>0</td>\n",
              "      <td>0</td>\n",
              "      <td>2</td>\n",
              "    </tr>\n",
              "    <tr>\n",
              "      <th>4</th>\n",
              "      <td>1821</td>\n",
              "      <td>1</td>\n",
              "      <td>1.2</td>\n",
              "      <td>0</td>\n",
              "      <td>13</td>\n",
              "      <td>1</td>\n",
              "      <td>44</td>\n",
              "      <td>0.6</td>\n",
              "      <td>141</td>\n",
              "      <td>2</td>\n",
              "      <td>14</td>\n",
              "      <td>1208</td>\n",
              "      <td>1212</td>\n",
              "      <td>1411</td>\n",
              "      <td>8</td>\n",
              "      <td>2</td>\n",
              "      <td>15</td>\n",
              "      <td>1</td>\n",
              "      <td>1</td>\n",
              "      <td>0</td>\n",
              "      <td>1</td>\n",
              "    </tr>\n",
              "  </tbody>\n",
              "</table>\n",
              "</div>"
            ],
            "text/plain": [
              "   battery_power  blue  clock_speed  ...  touch_screen  wifi  price_range\n",
              "0            842     0          2.2  ...             0     1            1\n",
              "1           1021     1          0.5  ...             1     0            2\n",
              "2            563     1          0.5  ...             1     0            2\n",
              "3            615     1          2.5  ...             0     0            2\n",
              "4           1821     1          1.2  ...             1     0            1\n",
              "\n",
              "[5 rows x 21 columns]"
            ]
          },
          "metadata": {},
          "execution_count": 59
        }
      ]
    },
    {
      "cell_type": "code",
      "metadata": {
        "colab": {
          "base_uri": "https://localhost:8080/",
          "height": 223
        },
        "id": "oDPSX_pPL3L-",
        "outputId": "ebd4357f-6f17-4b89-9638-fc64132be727"
      },
      "source": [
        "#let's use Tail for last five rows\n",
        "\n",
        "df.tail()"
      ],
      "execution_count": 60,
      "outputs": [
        {
          "output_type": "execute_result",
          "data": {
            "text/html": [
              "<div>\n",
              "<style scoped>\n",
              "    .dataframe tbody tr th:only-of-type {\n",
              "        vertical-align: middle;\n",
              "    }\n",
              "\n",
              "    .dataframe tbody tr th {\n",
              "        vertical-align: top;\n",
              "    }\n",
              "\n",
              "    .dataframe thead th {\n",
              "        text-align: right;\n",
              "    }\n",
              "</style>\n",
              "<table border=\"1\" class=\"dataframe\">\n",
              "  <thead>\n",
              "    <tr style=\"text-align: right;\">\n",
              "      <th></th>\n",
              "      <th>battery_power</th>\n",
              "      <th>blue</th>\n",
              "      <th>clock_speed</th>\n",
              "      <th>dual_sim</th>\n",
              "      <th>fc</th>\n",
              "      <th>four_g</th>\n",
              "      <th>int_memory</th>\n",
              "      <th>m_dep</th>\n",
              "      <th>mobile_wt</th>\n",
              "      <th>n_cores</th>\n",
              "      <th>pc</th>\n",
              "      <th>px_height</th>\n",
              "      <th>px_width</th>\n",
              "      <th>ram</th>\n",
              "      <th>sc_h</th>\n",
              "      <th>sc_w</th>\n",
              "      <th>talk_time</th>\n",
              "      <th>three_g</th>\n",
              "      <th>touch_screen</th>\n",
              "      <th>wifi</th>\n",
              "      <th>price_range</th>\n",
              "    </tr>\n",
              "  </thead>\n",
              "  <tbody>\n",
              "    <tr>\n",
              "      <th>1995</th>\n",
              "      <td>794</td>\n",
              "      <td>1</td>\n",
              "      <td>0.5</td>\n",
              "      <td>1</td>\n",
              "      <td>0</td>\n",
              "      <td>1</td>\n",
              "      <td>2</td>\n",
              "      <td>0.8</td>\n",
              "      <td>106</td>\n",
              "      <td>6</td>\n",
              "      <td>14</td>\n",
              "      <td>1222</td>\n",
              "      <td>1890</td>\n",
              "      <td>668</td>\n",
              "      <td>13</td>\n",
              "      <td>4</td>\n",
              "      <td>19</td>\n",
              "      <td>1</td>\n",
              "      <td>1</td>\n",
              "      <td>0</td>\n",
              "      <td>0</td>\n",
              "    </tr>\n",
              "    <tr>\n",
              "      <th>1996</th>\n",
              "      <td>1965</td>\n",
              "      <td>1</td>\n",
              "      <td>2.6</td>\n",
              "      <td>1</td>\n",
              "      <td>0</td>\n",
              "      <td>0</td>\n",
              "      <td>39</td>\n",
              "      <td>0.2</td>\n",
              "      <td>187</td>\n",
              "      <td>4</td>\n",
              "      <td>3</td>\n",
              "      <td>915</td>\n",
              "      <td>1965</td>\n",
              "      <td>2032</td>\n",
              "      <td>11</td>\n",
              "      <td>10</td>\n",
              "      <td>16</td>\n",
              "      <td>1</td>\n",
              "      <td>1</td>\n",
              "      <td>1</td>\n",
              "      <td>2</td>\n",
              "    </tr>\n",
              "    <tr>\n",
              "      <th>1997</th>\n",
              "      <td>1911</td>\n",
              "      <td>0</td>\n",
              "      <td>0.9</td>\n",
              "      <td>1</td>\n",
              "      <td>1</td>\n",
              "      <td>1</td>\n",
              "      <td>36</td>\n",
              "      <td>0.7</td>\n",
              "      <td>108</td>\n",
              "      <td>8</td>\n",
              "      <td>3</td>\n",
              "      <td>868</td>\n",
              "      <td>1632</td>\n",
              "      <td>3057</td>\n",
              "      <td>9</td>\n",
              "      <td>1</td>\n",
              "      <td>5</td>\n",
              "      <td>1</td>\n",
              "      <td>1</td>\n",
              "      <td>0</td>\n",
              "      <td>3</td>\n",
              "    </tr>\n",
              "    <tr>\n",
              "      <th>1998</th>\n",
              "      <td>1512</td>\n",
              "      <td>0</td>\n",
              "      <td>0.9</td>\n",
              "      <td>0</td>\n",
              "      <td>4</td>\n",
              "      <td>1</td>\n",
              "      <td>46</td>\n",
              "      <td>0.1</td>\n",
              "      <td>145</td>\n",
              "      <td>5</td>\n",
              "      <td>5</td>\n",
              "      <td>336</td>\n",
              "      <td>670</td>\n",
              "      <td>869</td>\n",
              "      <td>18</td>\n",
              "      <td>10</td>\n",
              "      <td>19</td>\n",
              "      <td>1</td>\n",
              "      <td>1</td>\n",
              "      <td>1</td>\n",
              "      <td>0</td>\n",
              "    </tr>\n",
              "    <tr>\n",
              "      <th>1999</th>\n",
              "      <td>510</td>\n",
              "      <td>1</td>\n",
              "      <td>2.0</td>\n",
              "      <td>1</td>\n",
              "      <td>5</td>\n",
              "      <td>1</td>\n",
              "      <td>45</td>\n",
              "      <td>0.9</td>\n",
              "      <td>168</td>\n",
              "      <td>6</td>\n",
              "      <td>16</td>\n",
              "      <td>483</td>\n",
              "      <td>754</td>\n",
              "      <td>3919</td>\n",
              "      <td>19</td>\n",
              "      <td>4</td>\n",
              "      <td>2</td>\n",
              "      <td>1</td>\n",
              "      <td>1</td>\n",
              "      <td>1</td>\n",
              "      <td>3</td>\n",
              "    </tr>\n",
              "  </tbody>\n",
              "</table>\n",
              "</div>"
            ],
            "text/plain": [
              "      battery_power  blue  clock_speed  ...  touch_screen  wifi  price_range\n",
              "1995            794     1          0.5  ...             1     0            0\n",
              "1996           1965     1          2.6  ...             1     1            2\n",
              "1997           1911     0          0.9  ...             1     0            3\n",
              "1998           1512     0          0.9  ...             1     1            0\n",
              "1999            510     1          2.0  ...             1     1            3\n",
              "\n",
              "[5 rows x 21 columns]"
            ]
          },
          "metadata": {},
          "execution_count": 60
        }
      ]
    },
    {
      "cell_type": "code",
      "metadata": {
        "colab": {
          "base_uri": "https://localhost:8080/"
        },
        "id": "r9nArzEFMGQp",
        "outputId": "d6725987-f858-4787-f61a-86f3cd1aec62"
      },
      "source": [
        "df.shape"
      ],
      "execution_count": 61,
      "outputs": [
        {
          "output_type": "execute_result",
          "data": {
            "text/plain": [
              "(2000, 21)"
            ]
          },
          "metadata": {},
          "execution_count": 61
        }
      ]
    },
    {
      "cell_type": "markdown",
      "metadata": {
        "id": "Xvshf8UaMRDL"
      },
      "source": [
        "* **Number of instances: 2000, Number of attributes: 21**\n",
        "\n"
      ]
    },
    {
      "cell_type": "code",
      "metadata": {
        "colab": {
          "base_uri": "https://localhost:8080/"
        },
        "id": "Yg6FIZTyMIym",
        "outputId": "869928a9-7701-416c-f9ac-47c36626f90e"
      },
      "source": [
        "#let's check for number of columns available \n",
        "\n",
        "df.columns"
      ],
      "execution_count": 62,
      "outputs": [
        {
          "output_type": "execute_result",
          "data": {
            "text/plain": [
              "Index(['battery_power', 'blue', 'clock_speed', 'dual_sim', 'fc', 'four_g',\n",
              "       'int_memory', 'm_dep', 'mobile_wt', 'n_cores', 'pc', 'px_height',\n",
              "       'px_width', 'ram', 'sc_h', 'sc_w', 'talk_time', 'three_g',\n",
              "       'touch_screen', 'wifi', 'price_range'],\n",
              "      dtype='object')"
            ]
          },
          "metadata": {},
          "execution_count": 62
        }
      ]
    },
    {
      "cell_type": "code",
      "metadata": {
        "colab": {
          "base_uri": "https://localhost:8080/"
        },
        "id": "33fLvmvpMWL5",
        "outputId": "222c1b3a-7066-497a-e217-af122bad39f1"
      },
      "source": [
        "# checking for info about dataset\n",
        "\n",
        "df.info()"
      ],
      "execution_count": 63,
      "outputs": [
        {
          "output_type": "stream",
          "name": "stdout",
          "text": [
            "<class 'pandas.core.frame.DataFrame'>\n",
            "RangeIndex: 2000 entries, 0 to 1999\n",
            "Data columns (total 21 columns):\n",
            " #   Column         Non-Null Count  Dtype  \n",
            "---  ------         --------------  -----  \n",
            " 0   battery_power  2000 non-null   int64  \n",
            " 1   blue           2000 non-null   int64  \n",
            " 2   clock_speed    2000 non-null   float64\n",
            " 3   dual_sim       2000 non-null   int64  \n",
            " 4   fc             2000 non-null   int64  \n",
            " 5   four_g         2000 non-null   int64  \n",
            " 6   int_memory     2000 non-null   int64  \n",
            " 7   m_dep          2000 non-null   float64\n",
            " 8   mobile_wt      2000 non-null   int64  \n",
            " 9   n_cores        2000 non-null   int64  \n",
            " 10  pc             2000 non-null   int64  \n",
            " 11  px_height      2000 non-null   int64  \n",
            " 12  px_width       2000 non-null   int64  \n",
            " 13  ram            2000 non-null   int64  \n",
            " 14  sc_h           2000 non-null   int64  \n",
            " 15  sc_w           2000 non-null   int64  \n",
            " 16  talk_time      2000 non-null   int64  \n",
            " 17  three_g        2000 non-null   int64  \n",
            " 18  touch_screen   2000 non-null   int64  \n",
            " 19  wifi           2000 non-null   int64  \n",
            " 20  price_range    2000 non-null   int64  \n",
            "dtypes: float64(2), int64(19)\n",
            "memory usage: 328.2 KB\n"
          ]
        }
      ]
    },
    {
      "cell_type": "markdown",
      "metadata": {
        "id": "tJcwKOadQhdv"
      },
      "source": [
        "**Two types of a data types are here  float and integers.**"
      ]
    },
    {
      "cell_type": "code",
      "metadata": {
        "colab": {
          "base_uri": "https://localhost:8080/",
          "height": 315
        },
        "id": "AeT8IMmLMZRc",
        "outputId": "c3066474-90fb-4671-d93e-e34819032b79"
      },
      "source": [
        "#Statistical Description of all the Features\n",
        "\n",
        "df.describe()"
      ],
      "execution_count": 64,
      "outputs": [
        {
          "output_type": "execute_result",
          "data": {
            "text/html": [
              "<div>\n",
              "<style scoped>\n",
              "    .dataframe tbody tr th:only-of-type {\n",
              "        vertical-align: middle;\n",
              "    }\n",
              "\n",
              "    .dataframe tbody tr th {\n",
              "        vertical-align: top;\n",
              "    }\n",
              "\n",
              "    .dataframe thead th {\n",
              "        text-align: right;\n",
              "    }\n",
              "</style>\n",
              "<table border=\"1\" class=\"dataframe\">\n",
              "  <thead>\n",
              "    <tr style=\"text-align: right;\">\n",
              "      <th></th>\n",
              "      <th>battery_power</th>\n",
              "      <th>blue</th>\n",
              "      <th>clock_speed</th>\n",
              "      <th>dual_sim</th>\n",
              "      <th>fc</th>\n",
              "      <th>four_g</th>\n",
              "      <th>int_memory</th>\n",
              "      <th>m_dep</th>\n",
              "      <th>mobile_wt</th>\n",
              "      <th>n_cores</th>\n",
              "      <th>pc</th>\n",
              "      <th>px_height</th>\n",
              "      <th>px_width</th>\n",
              "      <th>ram</th>\n",
              "      <th>sc_h</th>\n",
              "      <th>sc_w</th>\n",
              "      <th>talk_time</th>\n",
              "      <th>three_g</th>\n",
              "      <th>touch_screen</th>\n",
              "      <th>wifi</th>\n",
              "      <th>price_range</th>\n",
              "    </tr>\n",
              "  </thead>\n",
              "  <tbody>\n",
              "    <tr>\n",
              "      <th>count</th>\n",
              "      <td>2000.000000</td>\n",
              "      <td>2000.0000</td>\n",
              "      <td>2000.000000</td>\n",
              "      <td>2000.000000</td>\n",
              "      <td>2000.000000</td>\n",
              "      <td>2000.000000</td>\n",
              "      <td>2000.000000</td>\n",
              "      <td>2000.000000</td>\n",
              "      <td>2000.000000</td>\n",
              "      <td>2000.000000</td>\n",
              "      <td>2000.000000</td>\n",
              "      <td>2000.000000</td>\n",
              "      <td>2000.000000</td>\n",
              "      <td>2000.000000</td>\n",
              "      <td>2000.000000</td>\n",
              "      <td>2000.000000</td>\n",
              "      <td>2000.000000</td>\n",
              "      <td>2000.000000</td>\n",
              "      <td>2000.000000</td>\n",
              "      <td>2000.000000</td>\n",
              "      <td>2000.000000</td>\n",
              "    </tr>\n",
              "    <tr>\n",
              "      <th>mean</th>\n",
              "      <td>1238.518500</td>\n",
              "      <td>0.4950</td>\n",
              "      <td>1.522250</td>\n",
              "      <td>0.509500</td>\n",
              "      <td>4.309500</td>\n",
              "      <td>0.521500</td>\n",
              "      <td>32.046500</td>\n",
              "      <td>0.501750</td>\n",
              "      <td>140.249000</td>\n",
              "      <td>4.520500</td>\n",
              "      <td>9.916500</td>\n",
              "      <td>645.108000</td>\n",
              "      <td>1251.515500</td>\n",
              "      <td>2124.213000</td>\n",
              "      <td>12.306500</td>\n",
              "      <td>5.767000</td>\n",
              "      <td>11.011000</td>\n",
              "      <td>0.761500</td>\n",
              "      <td>0.503000</td>\n",
              "      <td>0.507000</td>\n",
              "      <td>1.500000</td>\n",
              "    </tr>\n",
              "    <tr>\n",
              "      <th>std</th>\n",
              "      <td>439.418206</td>\n",
              "      <td>0.5001</td>\n",
              "      <td>0.816004</td>\n",
              "      <td>0.500035</td>\n",
              "      <td>4.341444</td>\n",
              "      <td>0.499662</td>\n",
              "      <td>18.145715</td>\n",
              "      <td>0.288416</td>\n",
              "      <td>35.399655</td>\n",
              "      <td>2.287837</td>\n",
              "      <td>6.064315</td>\n",
              "      <td>443.780811</td>\n",
              "      <td>432.199447</td>\n",
              "      <td>1084.732044</td>\n",
              "      <td>4.213245</td>\n",
              "      <td>4.356398</td>\n",
              "      <td>5.463955</td>\n",
              "      <td>0.426273</td>\n",
              "      <td>0.500116</td>\n",
              "      <td>0.500076</td>\n",
              "      <td>1.118314</td>\n",
              "    </tr>\n",
              "    <tr>\n",
              "      <th>min</th>\n",
              "      <td>501.000000</td>\n",
              "      <td>0.0000</td>\n",
              "      <td>0.500000</td>\n",
              "      <td>0.000000</td>\n",
              "      <td>0.000000</td>\n",
              "      <td>0.000000</td>\n",
              "      <td>2.000000</td>\n",
              "      <td>0.100000</td>\n",
              "      <td>80.000000</td>\n",
              "      <td>1.000000</td>\n",
              "      <td>0.000000</td>\n",
              "      <td>0.000000</td>\n",
              "      <td>500.000000</td>\n",
              "      <td>256.000000</td>\n",
              "      <td>5.000000</td>\n",
              "      <td>0.000000</td>\n",
              "      <td>2.000000</td>\n",
              "      <td>0.000000</td>\n",
              "      <td>0.000000</td>\n",
              "      <td>0.000000</td>\n",
              "      <td>0.000000</td>\n",
              "    </tr>\n",
              "    <tr>\n",
              "      <th>25%</th>\n",
              "      <td>851.750000</td>\n",
              "      <td>0.0000</td>\n",
              "      <td>0.700000</td>\n",
              "      <td>0.000000</td>\n",
              "      <td>1.000000</td>\n",
              "      <td>0.000000</td>\n",
              "      <td>16.000000</td>\n",
              "      <td>0.200000</td>\n",
              "      <td>109.000000</td>\n",
              "      <td>3.000000</td>\n",
              "      <td>5.000000</td>\n",
              "      <td>282.750000</td>\n",
              "      <td>874.750000</td>\n",
              "      <td>1207.500000</td>\n",
              "      <td>9.000000</td>\n",
              "      <td>2.000000</td>\n",
              "      <td>6.000000</td>\n",
              "      <td>1.000000</td>\n",
              "      <td>0.000000</td>\n",
              "      <td>0.000000</td>\n",
              "      <td>0.750000</td>\n",
              "    </tr>\n",
              "    <tr>\n",
              "      <th>50%</th>\n",
              "      <td>1226.000000</td>\n",
              "      <td>0.0000</td>\n",
              "      <td>1.500000</td>\n",
              "      <td>1.000000</td>\n",
              "      <td>3.000000</td>\n",
              "      <td>1.000000</td>\n",
              "      <td>32.000000</td>\n",
              "      <td>0.500000</td>\n",
              "      <td>141.000000</td>\n",
              "      <td>4.000000</td>\n",
              "      <td>10.000000</td>\n",
              "      <td>564.000000</td>\n",
              "      <td>1247.000000</td>\n",
              "      <td>2146.500000</td>\n",
              "      <td>12.000000</td>\n",
              "      <td>5.000000</td>\n",
              "      <td>11.000000</td>\n",
              "      <td>1.000000</td>\n",
              "      <td>1.000000</td>\n",
              "      <td>1.000000</td>\n",
              "      <td>1.500000</td>\n",
              "    </tr>\n",
              "    <tr>\n",
              "      <th>75%</th>\n",
              "      <td>1615.250000</td>\n",
              "      <td>1.0000</td>\n",
              "      <td>2.200000</td>\n",
              "      <td>1.000000</td>\n",
              "      <td>7.000000</td>\n",
              "      <td>1.000000</td>\n",
              "      <td>48.000000</td>\n",
              "      <td>0.800000</td>\n",
              "      <td>170.000000</td>\n",
              "      <td>7.000000</td>\n",
              "      <td>15.000000</td>\n",
              "      <td>947.250000</td>\n",
              "      <td>1633.000000</td>\n",
              "      <td>3064.500000</td>\n",
              "      <td>16.000000</td>\n",
              "      <td>9.000000</td>\n",
              "      <td>16.000000</td>\n",
              "      <td>1.000000</td>\n",
              "      <td>1.000000</td>\n",
              "      <td>1.000000</td>\n",
              "      <td>2.250000</td>\n",
              "    </tr>\n",
              "    <tr>\n",
              "      <th>max</th>\n",
              "      <td>1998.000000</td>\n",
              "      <td>1.0000</td>\n",
              "      <td>3.000000</td>\n",
              "      <td>1.000000</td>\n",
              "      <td>19.000000</td>\n",
              "      <td>1.000000</td>\n",
              "      <td>64.000000</td>\n",
              "      <td>1.000000</td>\n",
              "      <td>200.000000</td>\n",
              "      <td>8.000000</td>\n",
              "      <td>20.000000</td>\n",
              "      <td>1960.000000</td>\n",
              "      <td>1998.000000</td>\n",
              "      <td>3998.000000</td>\n",
              "      <td>19.000000</td>\n",
              "      <td>18.000000</td>\n",
              "      <td>20.000000</td>\n",
              "      <td>1.000000</td>\n",
              "      <td>1.000000</td>\n",
              "      <td>1.000000</td>\n",
              "      <td>3.000000</td>\n",
              "    </tr>\n",
              "  </tbody>\n",
              "</table>\n",
              "</div>"
            ],
            "text/plain": [
              "       battery_power       blue  ...         wifi  price_range\n",
              "count    2000.000000  2000.0000  ...  2000.000000  2000.000000\n",
              "mean     1238.518500     0.4950  ...     0.507000     1.500000\n",
              "std       439.418206     0.5001  ...     0.500076     1.118314\n",
              "min       501.000000     0.0000  ...     0.000000     0.000000\n",
              "25%       851.750000     0.0000  ...     0.000000     0.750000\n",
              "50%      1226.000000     0.0000  ...     1.000000     1.500000\n",
              "75%      1615.250000     1.0000  ...     1.000000     2.250000\n",
              "max      1998.000000     1.0000  ...     1.000000     3.000000\n",
              "\n",
              "[8 rows x 21 columns]"
            ]
          },
          "metadata": {},
          "execution_count": 64
        }
      ]
    },
    {
      "cell_type": "markdown",
      "metadata": {
        "id": "eZLVxOf-QO32"
      },
      "source": [
        "**The dataset contains:**\n",
        "* **Her, Dichotomous type variables such as wifi, 3g, 4g, dual_sim and touch screen.** \n",
        "* **Nominal type variables such as n_cores and m_deep.**"
      ]
    },
    {
      "cell_type": "markdown",
      "metadata": {
        "id": "elUb_DocGFa_"
      },
      "source": [
        "# **Exploratory Data Analysis on Features**"
      ]
    },
    {
      "cell_type": "markdown",
      "metadata": {
        "id": "DfyKAmjqIFfd"
      },
      "source": [
        "## **Dependent variable -price_range**"
      ]
    },
    {
      "cell_type": "code",
      "metadata": {
        "id": "jC5J8dxVMhfL",
        "colab": {
          "base_uri": "https://localhost:8080/"
        },
        "outputId": "fa459658-48c4-4b7d-f694-e06776c095c4"
      },
      "source": [
        "# Let's check unique categories of dependent variable\n",
        "\n",
        "df['price_range'].unique()"
      ],
      "execution_count": 65,
      "outputs": [
        {
          "output_type": "execute_result",
          "data": {
            "text/plain": [
              "array([1, 2, 3, 0])"
            ]
          },
          "metadata": {},
          "execution_count": 65
        }
      ]
    },
    {
      "cell_type": "code",
      "metadata": {
        "colab": {
          "base_uri": "https://localhost:8080/",
          "height": 368
        },
        "id": "PC80_EQTIRzl",
        "outputId": "57c5c569-4f12-4244-9ac2-8d148c1ccb65"
      },
      "source": [
        "# This is Histplot to show the count of all categories\n",
        "\n",
        "plt.figure(figsize=(10,5))\n",
        "xtick=[0,1,2,3]\n",
        "sns.histplot(data=df['price_range'])\n",
        "plt.xticks(xtick)\n",
        "plt.title('Count of price range')"
      ],
      "execution_count": 66,
      "outputs": [
        {
          "output_type": "execute_result",
          "data": {
            "text/plain": [
              "Text(0.5, 1.0, 'Count of price range')"
            ]
          },
          "metadata": {},
          "execution_count": 66
        },
        {
          "output_type": "display_data",
          "data": {
            "image/png": "[encoded data removed]",
            "text/plain": [
              "<Figure size 720x360 with 1 Axes>"
            ]
          },
          "metadata": {
            "needs_background": "light"
          }
        }
      ]
    },
    {
      "cell_type": "markdown",
      "metadata": {
        "id": "nbJiQX5JJ0A9"
      },
      "source": [
        "**Here each price range has equal number of observations.**"
      ]
    },
    {
      "cell_type": "markdown",
      "metadata": {
        "id": "6rQE8N_hIo57"
      },
      "source": [
        "## **n_cores**"
      ]
    },
    {
      "cell_type": "code",
      "metadata": {
        "colab": {
          "base_uri": "https://localhost:8080/"
        },
        "id": "0HiT66OdIdee",
        "outputId": "b25b9b17-63ee-428c-9fd6-eec4f03ffd1b"
      },
      "source": [
        "# Checking unique categories\n",
        "\n",
        "sorted(list(df['n_cores'].unique()))"
      ],
      "execution_count": 67,
      "outputs": [
        {
          "output_type": "execute_result",
          "data": {
            "text/plain": [
              "[1, 2, 3, 4, 5, 6, 7, 8]"
            ]
          },
          "metadata": {},
          "execution_count": 67
        }
      ]
    },
    {
      "cell_type": "code",
      "metadata": {
        "colab": {
          "base_uri": "https://localhost:8080/"
        },
        "id": "iDqpfM_PKEC0",
        "outputId": "c8a5b096-afea-444b-9b59-6e335d0fd56d"
      },
      "source": [
        "# Value counts of each of categories.\n",
        "\n",
        "df['n_cores'].value_counts()"
      ],
      "execution_count": 68,
      "outputs": [
        {
          "output_type": "execute_result",
          "data": {
            "text/plain": [
              "4    274\n",
              "7    259\n",
              "8    256\n",
              "2    247\n",
              "5    246\n",
              "3    246\n",
              "1    242\n",
              "6    230\n",
              "Name: n_cores, dtype: int64"
            ]
          },
          "metadata": {},
          "execution_count": 68
        }
      ]
    },
    {
      "cell_type": "code",
      "metadata": {
        "colab": {
          "base_uri": "https://localhost:8080/",
          "height": 367
        },
        "id": "0dbX_rb6KHbp",
        "outputId": "11c88b29-2c19-46ed-a6f7-ce2fa05dbb4f"
      },
      "source": [
        "# Histplot to show count of each categories\n",
        "\n",
        "plt.figure(figsize=(10,5))\n",
        "sns.histplot(df['n_cores'],binwidth=0.4)\n",
        "plt.title('Count of each cores of processor')"
      ],
      "execution_count": 69,
      "outputs": [
        {
          "output_type": "execute_result",
          "data": {
            "text/plain": [
              "Text(0.5, 1.0, 'Count of each cores of processor')"
            ]
          },
          "metadata": {},
          "execution_count": 69
        },
        {
          "output_type": "display_data",
          "data": {
            "image/png": "[encoded data removed]",
            "text/plain": [
              "<Figure size 720x360 with 1 Axes>"
            ]
          },
          "metadata": {
            "needs_background": "light"
          }
        }
      ]
    },
    {
      "cell_type": "markdown",
      "metadata": {
        "id": "Nc-1DfiiKVOD"
      },
      "source": [
        "**There is almost equal number of observations for each cores with highest observation for 4 cores.**"
      ]
    },
    {
      "cell_type": "markdown",
      "metadata": {
        "id": "dU3cdGAtMjxq"
      },
      "source": [
        "## **blue**"
      ]
    },
    {
      "cell_type": "code",
      "metadata": {
        "colab": {
          "base_uri": "https://localhost:8080/"
        },
        "id": "kWgyaMqBKLwS",
        "outputId": "c2e4f78e-d7ac-4f64-89ca-e82ba3124379"
      },
      "source": [
        "# Let's check  unique categories first\n",
        " \n",
        "df['blue'].unique()"
      ],
      "execution_count": 70,
      "outputs": [
        {
          "output_type": "execute_result",
          "data": {
            "text/plain": [
              "array([0, 1])"
            ]
          },
          "metadata": {},
          "execution_count": 70
        }
      ]
    },
    {
      "cell_type": "code",
      "metadata": {
        "colab": {
          "base_uri": "https://localhost:8080/",
          "height": 367
        },
        "id": "9JxMpGhSMtS5",
        "outputId": "a409ae34-cd30-4570-c52f-b9c44bd2669f"
      },
      "source": [
        "# Histplot to show count of each categories\n",
        "\n",
        "plt.figure(figsize=(5,5))\n",
        "xtick=[0,1]\n",
        "label = ['No', 'Yes']\n",
        "sns.histplot(df['blue'])\n",
        "plt.xticks(xtick, label)\n",
        "plt.title('Count of phones for blue')"
      ],
      "execution_count": 71,
      "outputs": [
        {
          "output_type": "execute_result",
          "data": {
            "text/plain": [
              "Text(0.5, 1.0, 'Count of phones for blue')"
            ]
          },
          "metadata": {},
          "execution_count": 71
        },
        {
          "output_type": "display_data",
          "data": {
            "image/png": "[encoded data removed]",
            "text/plain": [
              "<Figure size 360x360 with 1 Axes>"
            ]
          },
          "metadata": {
            "needs_background": "light"
          }
        }
      ]
    },
    {
      "cell_type": "markdown",
      "metadata": {
        "id": "VsFqTifLNMun"
      },
      "source": [
        "## **dual_sim**"
      ]
    },
    {
      "cell_type": "code",
      "metadata": {
        "colab": {
          "base_uri": "https://localhost:8080/"
        },
        "id": "AEDeFUt5NEK-",
        "outputId": "2be57244-225c-481c-8a87-5cb8c8a90688"
      },
      "source": [
        "#Let's check unique categories\n",
        "\n",
        "df['dual_sim'].unique()"
      ],
      "execution_count": 72,
      "outputs": [
        {
          "output_type": "execute_result",
          "data": {
            "text/plain": [
              "array([0, 1])"
            ]
          },
          "metadata": {},
          "execution_count": 72
        }
      ]
    },
    {
      "cell_type": "code",
      "metadata": {
        "colab": {
          "base_uri": "https://localhost:8080/",
          "height": 368
        },
        "id": "i8mDIk_dNT9m",
        "outputId": "39b05918-6265-4670-ab8e-915be2bb12ea"
      },
      "source": [
        "# let's use Histplot to show count of each categories\n",
        "\n",
        "plt.figure(figsize=(5,5))\n",
        "xtick=[0,1]\n",
        "label = ['No', 'Yes']\n",
        "sns.histplot(df['dual_sim'])\n",
        "plt.xticks(xtick, label)\n",
        "plt.title('Count of phones for dual_sim')"
      ],
      "execution_count": 73,
      "outputs": [
        {
          "output_type": "execute_result",
          "data": {
            "text/plain": [
              "Text(0.5, 1.0, 'Count of phones for dual_sim')"
            ]
          },
          "metadata": {},
          "execution_count": 73
        },
        {
          "output_type": "display_data",
          "data": {
            "image/png": "[encoded data removed]",
            "text/plain": [
              "<Figure size 360x360 with 1 Axes>"
            ]
          },
          "metadata": {
            "needs_background": "light"
          }
        }
      ]
    },
    {
      "cell_type": "markdown",
      "metadata": {
        "id": "OXU8_i7BPBGX"
      },
      "source": [
        "* **All these features have only two values i.e. '1' or '0'.**\n",
        "* **Number of observation is almost equal for all these features.**"
      ]
    },
    {
      "cell_type": "markdown",
      "metadata": {
        "id": "-aP2UXGjPbuL"
      },
      "source": [
        "## **int_memory and mobile_wt**"
      ]
    },
    {
      "cell_type": "code",
      "metadata": {
        "id": "O7ZaYR-6Niwz",
        "colab": {
          "base_uri": "https://localhost:8080/",
          "height": 517
        },
        "outputId": "b7f10eb1-759b-47f1-d960-aed6a4afbacb"
      },
      "source": [
        "# visualizing stats of these variables using box plots\n",
        "\n",
        "plt.figure(figsize=(10,8))\n",
        "xtick=[1,2]\n",
        "label=['int_memory','mobile_wt']\n",
        "plt.boxplot(df[['int_memory','mobile_wt']].values)\n",
        "plt.xticks(xtick,label)\n",
        "plt.title('Box plot for medium range variables')"
      ],
      "execution_count": 74,
      "outputs": [
        {
          "output_type": "execute_result",
          "data": {
            "text/plain": [
              "Text(0.5, 1.0, 'Box plot for medium range variables')"
            ]
          },
          "metadata": {},
          "execution_count": 74
        },
        {
          "output_type": "display_data",
          "data": {
            "image/png": "[encoded data removed]",
            "text/plain": [
              "<Figure size 720x576 with 1 Axes>"
            ]
          },
          "metadata": {
            "needs_background": "light"
          }
        }
      ]
    },
    {
      "cell_type": "markdown",
      "metadata": {
        "id": "1VPhC0IAQlEn"
      },
      "source": [
        "**Mean value for internal memory is around 32 and min and max values are 64 and 2.**\n",
        "\n",
        "**Mean value for weight is around 141 and min and max values are 200 and 80.**"
      ]
    },
    {
      "cell_type": "markdown",
      "metadata": {
        "id": "K-heDV6oQ0gG"
      },
      "source": [
        "## **clock_speed, fc, pc, sc_h, sc_w, talk_time**"
      ]
    },
    {
      "cell_type": "code",
      "metadata": {
        "colab": {
          "base_uri": "https://localhost:8080/",
          "height": 517
        },
        "id": "pHpm1yMmPzn3",
        "outputId": "e9569166-d0ee-4386-a1d3-2a1e9cbe3ffc"
      },
      "source": [
        "# visualizing stats of these variables using box plots\n",
        "\n",
        "plt.figure(figsize=(10,8))\n",
        "xtick=[1,2,3,4,5,6]\n",
        "label=['clock_speed','fc','pc','sc_h','sc_w','talk_time']\n",
        "plt.boxplot(df[['clock_speed','fc','pc','sc_h','sc_w','talk_time']].values)\n",
        "plt.xticks(xtick,label)\n",
        "plt.title('Box plot for low range variables')\n"
      ],
      "execution_count": 75,
      "outputs": [
        {
          "output_type": "execute_result",
          "data": {
            "text/plain": [
              "Text(0.5, 1.0, 'Box plot for low range variables')"
            ]
          },
          "metadata": {},
          "execution_count": 75
        },
        {
          "output_type": "display_data",
          "data": {
            "image/png": "[encoded data removed]",
            "text/plain": [
              "<Figure size 720x576 with 1 Axes>"
            ]
          },
          "metadata": {
            "needs_background": "light"
          }
        }
      ]
    },
    {
      "cell_type": "markdown",
      "metadata": {
        "id": "NgPQYhzwRQnW"
      },
      "source": [
        "**Mean value for clock speed is around 1.5 and min and max values are 3 and 0.5 respectively.**\n",
        "\n",
        "**Mean value of front camera and primary camera mega pixel is around 3 and 10 and min and max values are 19, 0 for front and 20, 0 for primary.**\n",
        "\n",
        "**Mean value of screen height and width is around 12 and 5 and min and max values are 19, 5 for height and 18, o for width.**\n",
        "\n",
        "**Mean value of talktime is around 11 and min and max values are 20 and 2.**"
      ]
    },
    {
      "cell_type": "markdown",
      "metadata": {
        "id": "1aU7zZ6Mfqi5"
      },
      "source": [
        "## **Correlation matrix**"
      ]
    },
    {
      "cell_type": "code",
      "metadata": {
        "colab": {
          "base_uri": "https://localhost:8080/",
          "height": 672
        },
        "id": "-MdxVrcpRwB-",
        "outputId": "3ab7e918-1e39-42d6-f1d0-29b86db2db67"
      },
      "source": [
        "# Plotting correlation matrix\n",
        "\n",
        "plt.figure(figsize=(20,20))\n",
        "sns.heatmap(abs(df.corr()),annot=True, cmap='coolwarm',square=True)\n",
        "plt.title('Heatmap',fontsize=20)"
      ],
      "execution_count": 76,
      "outputs": [
        {
          "output_type": "execute_result",
          "data": {
            "text/plain": [
              "Text(0.5, 1.0, 'Heatmap')"
            ]
          },
          "metadata": {},
          "execution_count": 76
        },
        {
          "output_type": "display_data",
          "data": {
            "image/png": "[encoded data removed]",
            "text/plain": [
              "<Figure size 1440x1440 with 2 Axes>"
            ]
          },
          "metadata": {
            "needs_background": "light"
          }
        }
      ]
    },
    {
      "cell_type": "markdown",
      "metadata": {
        "id": "8yk1By-PSGA6"
      },
      "source": [
        "**Ram is highly correlated with price_range.**\n",
        "\n",
        "**pc is correlated with fc.**\n",
        "\n",
        "**three_g and four_g are moderately correlated.**"
      ]
    },
    {
      "cell_type": "markdown",
      "metadata": {
        "id": "TKw7ZRXOSnlr"
      },
      "source": [
        "### **Now, let's try to find impact of independent variables on dependent variable(price_range).**"
      ]
    },
    {
      "cell_type": "markdown",
      "metadata": {
        "id": "MJpEIr3WTBUN"
      },
      "source": [
        "### **wifi V/S price_range**"
      ]
    },
    {
      "cell_type": "code",
      "metadata": {
        "colab": {
          "base_uri": "https://localhost:8080/",
          "height": 0
        },
        "id": "0f-RnmgfR-Wc",
        "outputId": "dc35efa3-25c3-4552-b47d-1d479908e50e"
      },
      "source": [
        "# Barplot showing price_range of phones with wifi or not.\n",
        "\n",
        "plt.rcParams['figure.figsize']=(10,8)\n",
        "df.groupby(['price_range']).agg({'wifi':'value_counts'}).unstack().plot.bar()\n",
        "plt.title('Count of phones with and without wifi')\n",
        "plt.xlabel('Price range')\n",
        "plt.ylabel('No. of phones')"
      ],
      "execution_count": 77,
      "outputs": [
        {
          "output_type": "execute_result",
          "data": {
            "text/plain": [
              "Text(0, 0.5, 'No. of phones')"
            ]
          },
          "metadata": {},
          "execution_count": 77
        },
        {
          "output_type": "display_data",
          "data": {
            "image/png": "[encoded data removed]",
            "text/plain": [
              "<Figure size 720x576 with 1 Axes>"
            ]
          },
          "metadata": {
            "needs_background": "light"
          }
        }
      ]
    },
    {
      "cell_type": "markdown",
      "metadata": {
        "id": "uIMzIL7gTnVI"
      },
      "source": [
        "**All price ranges have almost equal no. of observations for both with or without wifi.**"
      ]
    },
    {
      "cell_type": "markdown",
      "metadata": {
        "id": "yU_Svrj4TwRO"
      },
      "source": [
        "### **Four_g V/S price_range**"
      ]
    },
    {
      "cell_type": "code",
      "metadata": {
        "colab": {
          "base_uri": "https://localhost:8080/",
          "height": 0
        },
        "id": "v3yS4yQRTiwS",
        "outputId": "c3c5193e-cbc7-4801-c2b6-08350f3f9ba5"
      },
      "source": [
        "# Barplot showing price_range of phones with 4g or not.\n",
        "\n",
        "plt.rcParams['figure.figsize']=(13,10)\n",
        "df.groupby(['price_range']).agg({'four_g':'value_counts'}).unstack().plot.bar()\n",
        "plt.title('Count of phones with and without 4g')\n",
        "plt.xlabel('Price range')\n",
        "plt.ylabel('No. of phones')"
      ],
      "execution_count": 78,
      "outputs": [
        {
          "output_type": "execute_result",
          "data": {
            "text/plain": [
              "Text(0, 0.5, 'No. of phones')"
            ]
          },
          "metadata": {},
          "execution_count": 78
        },
        {
          "output_type": "display_data",
          "data": {
            "image/png": "[encoded data removed]",
            "text/plain": [
              "<Figure size 936x720 with 1 Axes>"
            ]
          },
          "metadata": {
            "needs_background": "light"
          }
        }
      ]
    },
    {
      "cell_type": "markdown",
      "metadata": {
        "id": "lPmaIOYmVfPz"
      },
      "source": [
        "**All price ranges have almost equal no. of observations for both with or without 4g.**\n",
        "**But for very high price range, 4g should be supported.**"
      ]
    },
    {
      "cell_type": "markdown",
      "metadata": {
        "id": "TOOK4EjUVzty"
      },
      "source": [
        "### **N_cores and m_depth V/S price range**"
      ]
    },
    {
      "cell_type": "code",
      "metadata": {
        "colab": {
          "base_uri": "https://localhost:8080/",
          "height": 0
        },
        "id": "fxfjDpHuVJOZ",
        "outputId": "6ab2943d-de23-4794-a6d0-c7a68ce05fd8"
      },
      "source": [
        "# Grouping price range with n_cores and m_dep and visualizing \n",
        "\n",
        "list1=['n_cores','m_dep']\n",
        "for item in list1:\n",
        "  plt.rcParams['figure.figsize']=(10,8)\n",
        "  df.groupby(['price_range'])[item].value_counts().unstack().plot.bar()\n",
        "  plt.title(f'Price range grouped by {item}')\n",
        "  plt.ylabel('No. of phones')"
      ],
      "execution_count": 79,
      "outputs": [
        {
          "output_type": "display_data",
          "data": {
            "image/png": "[encoded data removed]",
            "text/plain": [
              "<Figure size 720x576 with 1 Axes>"
            ]
          },
          "metadata": {
            "needs_background": "light"
          }
        },
        {
          "output_type": "display_data",
          "data": {
            "image/png": "[encoded data removed]",
            "text/plain": [
              "<Figure size 720x576 with 1 Axes>"
            ]
          },
          "metadata": {
            "needs_background": "light"
          }
        }
      ]
    },
    {
      "cell_type": "markdown",
      "metadata": {
        "id": "yPaQel1LWDhe"
      },
      "source": [
        "### **mobile_wt v/s price_range**"
      ]
    },
    {
      "cell_type": "code",
      "metadata": {
        "colab": {
          "base_uri": "https://localhost:8080/",
          "height": 0
        },
        "id": "Zr99zFu2V8Um",
        "outputId": "2848717f-ba69-4170-a8f6-eb4301143d48"
      },
      "source": [
        "# Lineplot to show relation between mobile weight and price range.\n",
        "\n",
        "plt.figure(figsize=(8,5))\n",
        "xtick=[0,1,2,3]\n",
        "sns.lineplot(x='price_range',y='mobile_wt',data=df)\n",
        "plt.xticks(xtick)\n",
        "plt.title('mobile_wt vs price range')"
      ],
      "execution_count": 80,
      "outputs": [
        {
          "output_type": "execute_result",
          "data": {
            "text/plain": [
              "Text(0.5, 1.0, 'mobile_wt vs price range')"
            ]
          },
          "metadata": {},
          "execution_count": 80
        },
        {
          "output_type": "display_data",
          "data": {
            "image/png": "[encoded data removed]",
            "text/plain": [
              "<Figure size 576x360 with 1 Axes>"
            ]
          },
          "metadata": {
            "needs_background": "light"
          }
        }
      ]
    },
    {
      "cell_type": "markdown",
      "metadata": {
        "id": "z7kvKFKZWbty"
      },
      "source": [
        "**There is drastic decrease in mobile weight for very high prices.**"
      ]
    },
    {
      "cell_type": "markdown",
      "metadata": {
        "id": "O6fXvxyXWrU9"
      },
      "source": [
        "### **Ram v/s price_range**"
      ]
    },
    {
      "cell_type": "code",
      "metadata": {
        "colab": {
          "base_uri": "https://localhost:8080/",
          "height": 0
        },
        "id": "_NiQAmOwWUDc",
        "outputId": "c5d2624f-332b-4811-8e76-3f457daea975"
      },
      "source": [
        "# Visualizing price range with ram using lineplot\n",
        "\n",
        "plt.figure(figsize=(8,5))\n",
        "xtick=[0,1,2,3]\n",
        "plt.xticks(xtick)\n",
        "sns.lineplot(x='price_range',y='ram',data=df)\n",
        "plt.title('Ram vs price range')"
      ],
      "execution_count": 81,
      "outputs": [
        {
          "output_type": "execute_result",
          "data": {
            "text/plain": [
              "Text(0.5, 1.0, 'Ram vs price range')"
            ]
          },
          "metadata": {},
          "execution_count": 81
        },
        {
          "output_type": "display_data",
          "data": {
            "image/png": "[encoded data removed]",
            "text/plain": [
              "<Figure size 576x360 with 1 Axes>"
            ]
          },
          "metadata": {
            "needs_background": "light"
          }
        }
      ]
    },
    {
      "cell_type": "markdown",
      "metadata": {
        "id": "aiqKGdC_WyTy"
      },
      "source": [
        "**Ram is linearly positively correlated with price_range, means as ram increases price_range also increases.**"
      ]
    },
    {
      "cell_type": "markdown",
      "metadata": {
        "id": "nzcfe-VoXKNt"
      },
      "source": [
        "### **Battery_power, px_height, px_width, ram v/s price_range**"
      ]
    },
    {
      "cell_type": "code",
      "metadata": {
        "colab": {
          "base_uri": "https://localhost:8080/",
          "height": 0
        },
        "id": "fQ5FNwWFWuSf",
        "outputId": "154e12ca-47da-42bc-8332-f388260cf489"
      },
      "source": [
        "# Visualizing price range grouped by these variables using boxplot\n",
        "\n",
        "list1=['battery_power','px_height','px_width','ram']\n",
        "plt.figure(figsize=(20,6))\n",
        "for index,item in enumerate(list1):\n",
        "  xtick=[0,1,2,3]\n",
        "  plt.subplot(1,4,index+1)\n",
        "  plt.xticks(xtick)\n",
        "  sns.boxplot(x='price_range',y=item,data=df)\n",
        "  plt.title(f'{item} vs price range')"
      ],
      "execution_count": 82,
      "outputs": [
        {
          "output_type": "display_data",
          "data": {
            "image/png": "[encoded data removed]",
            "text/plain": [
              "<Figure size 1440x432 with 4 Axes>"
            ]
          },
          "metadata": {
            "needs_background": "light"
          }
        }
      ]
    },
    {
      "cell_type": "markdown",
      "metadata": {
        "id": "D41Ac2EJXWWj"
      },
      "source": [
        "* **Mean value of all these variables is increasing with increase in prices.**\n",
        "* **Also, all these variables are positively correlated with target variable**"
      ]
    },
    {
      "cell_type": "markdown",
      "metadata": {
        "id": "OumU1oJ9XtN3"
      },
      "source": [
        "# **Data Cleaning**"
      ]
    },
    {
      "cell_type": "markdown",
      "metadata": {
        "id": "wQenqmaeXx3f"
      },
      "source": [
        "### **Let's check for Nan values.**"
      ]
    },
    {
      "cell_type": "code",
      "metadata": {
        "colab": {
          "base_uri": "https://localhost:8080/"
        },
        "id": "t9yL488JXNmN",
        "outputId": "2d40c122-8034-4993-f604-0956898f0f47"
      },
      "source": [
        "# Checking for Null values\n",
        "\n",
        "df.isnull().sum()"
      ],
      "execution_count": 83,
      "outputs": [
        {
          "output_type": "execute_result",
          "data": {
            "text/plain": [
              "battery_power    0\n",
              "blue             0\n",
              "clock_speed      0\n",
              "dual_sim         0\n",
              "fc               0\n",
              "four_g           0\n",
              "int_memory       0\n",
              "m_dep            0\n",
              "mobile_wt        0\n",
              "n_cores          0\n",
              "pc               0\n",
              "px_height        0\n",
              "px_width         0\n",
              "ram              0\n",
              "sc_h             0\n",
              "sc_w             0\n",
              "talk_time        0\n",
              "three_g          0\n",
              "touch_screen     0\n",
              "wifi             0\n",
              "price_range      0\n",
              "dtype: int64"
            ]
          },
          "metadata": {},
          "execution_count": 83
        }
      ]
    },
    {
      "cell_type": "markdown",
      "metadata": {
        "id": "bGLe-jyWX7Uo"
      },
      "source": [
        "**In our dataset there is no null values. Nice!**"
      ]
    },
    {
      "cell_type": "markdown",
      "metadata": {
        "id": "oqqzRSZwYSyU"
      },
      "source": [
        "### **Let's check for outliers.**"
      ]
    },
    {
      "cell_type": "code",
      "metadata": {
        "colab": {
          "base_uri": "https://localhost:8080/",
          "height": 351
        },
        "id": "SR2sZzteX1hJ",
        "outputId": "96dcdc8a-686d-4815-a8c2-5f2574c1e0c2"
      },
      "source": [
        "# Checking outliers for discrete and continous type variables using box plot\n",
        "\n",
        "list1=['clock_speed','fc','pc','sc_h','sc_w','talk_time','int_memory','mobile_wt','battery_power','px_height','px_width','ram']\n",
        "plt.figure(figsize=(20,10))\n",
        "for index,item in enumerate(list1):\n",
        "  plt.subplot(2,6,index+1)\n",
        "  sns.boxplot(df[item])"
      ],
      "execution_count": 84,
      "outputs": [
        {
          "output_type": "display_data",
          "data": {
            "image/png": "[encoded data removed]",
            "text/plain": [
              "<Figure size 1440x720 with 12 Axes>"
            ]
          },
          "metadata": {
            "needs_background": "light"
          }
        }
      ]
    },
    {
      "cell_type": "markdown",
      "metadata": {
        "id": "U6Tp7dnXYmOy"
      },
      "source": [
        "**It seemss like there are no outliers except in fc but we can ignore them because they are close to the maximum value.**"
      ]
    },
    {
      "cell_type": "markdown",
      "metadata": {
        "id": "2SOZg631ICi5"
      },
      "source": [
        "## **Feature Engineering**"
      ]
    },
    {
      "cell_type": "markdown",
      "metadata": {
        "id": "zAsQ2UGBIIav"
      },
      "source": [
        "**Let's remove some unnecessary columns and add new columns.**"
      ]
    },
    {
      "cell_type": "code",
      "metadata": {
        "id": "zA1YhKZuYgdI"
      },
      "source": [
        "# First make copy of dataset before making changes\n",
        "\n",
        "mobile_df=df.copy()"
      ],
      "execution_count": 85,
      "outputs": []
    },
    {
      "cell_type": "markdown",
      "metadata": {
        "id": "zQwAcdj-Irfp"
      },
      "source": [
        "* **px_height and px_width were moderately correlated.**\n",
        "* **Also, sc_h and sc_w were moderately correlated**\n",
        "\n",
        "**Thus we can convert them into single columns.**"
      ]
    },
    {
      "cell_type": "code",
      "metadata": {
        "id": "CliuVQzXImuh"
      },
      "source": [
        "# Creating new column px_area from px_height and px_weight\n",
        "\n",
        "mobile_df['px_area']=mobile_df['px_height']*mobile_df['px_width']"
      ],
      "execution_count": 86,
      "outputs": []
    },
    {
      "cell_type": "code",
      "metadata": {
        "id": "2dD6HdtBI8oq"
      },
      "source": [
        "# Creating new column sc_area from sc_h and sc_w\n",
        "\n",
        "mobile_df['sc_area']=mobile_df['sc_h']*mobile_df['sc_w']"
      ],
      "execution_count": 87,
      "outputs": []
    },
    {
      "cell_type": "markdown",
      "metadata": {
        "id": "nleLxG_NJHHZ"
      },
      "source": [
        "**Now we can drop px_hieght, px_width, sc_h, sc_w columns from our dataframe.**"
      ]
    },
    {
      "cell_type": "code",
      "metadata": {
        "id": "BF3MSFNNJE8h"
      },
      "source": [
        "# Dropping columns\n",
        "\n",
        "mobile_df.drop(columns=['px_height','px_width','sc_h','sc_w',],inplace=True)"
      ],
      "execution_count": 88,
      "outputs": []
    },
    {
      "cell_type": "markdown",
      "metadata": {
        "id": "QMFyHcpDJdtX"
      },
      "source": [
        "## **Data Splitting and Data Scaling**"
      ]
    },
    {
      "cell_type": "code",
      "metadata": {
        "id": "856LVf-KJYD4"
      },
      "source": [
        "# importing libraries\n",
        "\n",
        "from sklearn.model_selection import train_test_split\n",
        "from sklearn.preprocessing import MinMaxScaler"
      ],
      "execution_count": 89,
      "outputs": []
    },
    {
      "cell_type": "code",
      "metadata": {
        "id": "vYDp04BuJnDX"
      },
      "source": [
        "# selecting independent features\n",
        "\n",
        "X=mobile_df.drop(columns='price_range')"
      ],
      "execution_count": 90,
      "outputs": []
    },
    {
      "cell_type": "code",
      "metadata": {
        "id": "NNicS3P5JwXU"
      },
      "source": [
        "# selecting dependent/target variable\n",
        "\n",
        "y=mobile_df['price_range']"
      ],
      "execution_count": 91,
      "outputs": []
    },
    {
      "cell_type": "code",
      "metadata": {
        "id": "r93Tw0Q9J1YV"
      },
      "source": [
        "# splitting the dataset\n",
        "\n",
        "X_train, X_test, y_train, y_test = train_test_split(X, y, test_size=0.2, random_state=12)  # random_state=12 to ensure same observations in each set everytime we run"
      ],
      "execution_count": 92,
      "outputs": []
    },
    {
      "cell_type": "code",
      "metadata": {
        "id": "aeAaGAFdKBay"
      },
      "source": [
        "# scaling the independent variables\n",
        "\n",
        "scaler=MinMaxScaler()\n",
        "X_train=scaler.fit_transform(X_train)\n",
        "X_test=scaler.fit_transform(X_test)"
      ],
      "execution_count": 93,
      "outputs": []
    },
    {
      "cell_type": "markdown",
      "metadata": {
        "id": "PQqqf_smKRKx"
      },
      "source": [
        "# **Models fitting**"
      ]
    },
    {
      "cell_type": "markdown",
      "metadata": {
        "id": "YPJjnadcgtKD"
      },
      "source": [
        "**First, we fit the model with default hyperparameters and check the performance.**\n",
        "\n",
        "**After that we will tune hyperparameters to enhance the performance.**"
      ]
    },
    {
      "cell_type": "markdown",
      "metadata": {
        "id": "UMgmZPL2hMg3"
      },
      "source": [
        "## **Random Forest Classifier**"
      ]
    },
    {
      "cell_type": "code",
      "metadata": {
        "id": "YfAaSSXIKHIU"
      },
      "source": [
        "# Importing library\n",
        "\n",
        "from sklearn.ensemble import RandomForestClassifier"
      ],
      "execution_count": 94,
      "outputs": []
    },
    {
      "cell_type": "markdown",
      "metadata": {
        "id": "DtPdfv4khSg5"
      },
      "source": [
        "**With default hyperparameters**"
      ]
    },
    {
      "cell_type": "code",
      "metadata": {
        "colab": {
          "base_uri": "https://localhost:8080/"
        },
        "id": "5z4jbRnchQ46",
        "outputId": "213d370c-a857-4dab-cb7a-cb2091446415"
      },
      "source": [
        "# Creating instance of random forest and fitting data\n",
        "\n",
        "rf=RandomForestClassifier(random_state=12)\n",
        "rf.fit(X_train,y_train)"
      ],
      "execution_count": 95,
      "outputs": [
        {
          "output_type": "execute_result",
          "data": {
            "text/plain": [
              "RandomForestClassifier(bootstrap=True, ccp_alpha=0.0, class_weight=None,\n",
              "                       criterion='gini', max_depth=None, max_features='auto',\n",
              "                       max_leaf_nodes=None, max_samples=None,\n",
              "                       min_impurity_decrease=0.0, min_impurity_split=None,\n",
              "                       min_samples_leaf=1, min_samples_split=2,\n",
              "                       min_weight_fraction_leaf=0.0, n_estimators=100,\n",
              "                       n_jobs=None, oob_score=False, random_state=12, verbose=0,\n",
              "                       warm_start=False)"
            ]
          },
          "metadata": {},
          "execution_count": 95
        }
      ]
    },
    {
      "cell_type": "code",
      "metadata": {
        "id": "DykuXQJohf7r"
      },
      "source": [
        "# predicting for both train and test\n",
        "\n",
        "y_pred_train1=rf.predict(X_train)\n",
        "y_pred_test1=rf.predict(X_test)"
      ],
      "execution_count": 96,
      "outputs": []
    },
    {
      "cell_type": "markdown",
      "metadata": {
        "id": "1J72i65ohvjt"
      },
      "source": [
        "**Evaluation metrics**"
      ]
    },
    {
      "cell_type": "code",
      "metadata": {
        "id": "4H3qBC3ohrys"
      },
      "source": [
        "# Importing libraries\n",
        "\n",
        "from sklearn.metrics import accuracy_score,precision_score,recall_score,confusion_matrix,f1_score,classification_report,roc_auc_score"
      ],
      "execution_count": 97,
      "outputs": []
    },
    {
      "cell_type": "code",
      "metadata": {
        "colab": {
          "base_uri": "https://localhost:8080/"
        },
        "id": "eUwh0HlqhzVm",
        "outputId": "d1c986a3-89fe-4e00-e506-04def42b39f5"
      },
      "source": [
        "# evalutaing the model using metrics\n",
        "# finding each of the metrics for training set\n",
        "\n",
        "print('The evaluation metric values for training set - Random forest:')\n",
        "print('The accuracy of training set = ',accuracy_score(y_train,y_pred_train1))\n",
        "print('The precision of training set = ',precision_score(y_train,y_pred_train1,average=None))\n",
        "print('The recall of training set = ',recall_score(y_train,y_pred_train1,average=None))\n",
        "print('The f1 score of training set = ',f1_score(y_train,y_pred_train1,average=None))\n",
        "print('The confusion matrix of training set = \\n',confusion_matrix(y_train,y_pred_train1))"
      ],
      "execution_count": 98,
      "outputs": [
        {
          "output_type": "stream",
          "name": "stdout",
          "text": [
            "The evaluation metric values for training set - Random forest:\n",
            "The accuracy of training set =  1.0\n",
            "The precision of training set =  [1. 1. 1. 1.]\n",
            "The recall of training set =  [1. 1. 1. 1.]\n",
            "The f1 score of training set =  [1. 1. 1. 1.]\n",
            "The confusion matrix of training set = \n",
            " [[398   0   0   0]\n",
            " [  0 395   0   0]\n",
            " [  0   0 405   0]\n",
            " [  0   0   0 402]]\n"
          ]
        }
      ]
    },
    {
      "cell_type": "code",
      "metadata": {
        "colab": {
          "base_uri": "https://localhost:8080/"
        },
        "id": "c0JGViiGh40t",
        "outputId": "ecf014ee-468a-49a0-f67f-d95aed4df743"
      },
      "source": [
        "# finding each of the metrics for test set\n",
        "\n",
        "print('The evaluation metric values for test set - Random forest:')\n",
        "print('The accuracy of test set = ',accuracy_score(y_test,y_pred_test1))\n",
        "print('The precision of test set = ',precision_score(y_test,y_pred_test1,average=None))\n",
        "print('The recall of test set = ',recall_score(y_test,y_pred_test1,average=None))\n",
        "print('The f1 score of test set = ',f1_score(y_test,y_pred_test1,average=None))\n",
        "print('The confusion matrix of test set = \\n',confusion_matrix(y_test,y_pred_test1))"
      ],
      "execution_count": 99,
      "outputs": [
        {
          "output_type": "stream",
          "name": "stdout",
          "text": [
            "The evaluation metric values for test set - Random forest:\n",
            "The accuracy of test set =  0.8825\n",
            "The precision of test set =  [0.92307692 0.87       0.81632653 0.91836735]\n",
            "The recall of test set =  [0.94117647 0.82857143 0.84210526 0.91836735]\n",
            "The f1 score of test set =  [0.93203883 0.84878049 0.82901554 0.91836735]\n",
            "The confusion matrix of test set = \n",
            " [[96  6  0  0]\n",
            " [ 8 87 10  0]\n",
            " [ 0  7 80  8]\n",
            " [ 0  0  8 90]]\n"
          ]
        }
      ]
    },
    {
      "cell_type": "code",
      "metadata": {
        "colab": {
          "base_uri": "https://localhost:8080/"
        },
        "id": "unXWLymDh8d7",
        "outputId": "799bd514-0440-439c-a3b4-280ff6b87c08"
      },
      "source": [
        "# checking classification report for test set\n",
        "\n",
        "print(classification_report(y_test,y_pred_test1))"
      ],
      "execution_count": 100,
      "outputs": [
        {
          "output_type": "stream",
          "name": "stdout",
          "text": [
            "              precision    recall  f1-score   support\n",
            "\n",
            "           0       0.92      0.94      0.93       102\n",
            "           1       0.87      0.83      0.85       105\n",
            "           2       0.82      0.84      0.83        95\n",
            "           3       0.92      0.92      0.92        98\n",
            "\n",
            "    accuracy                           0.88       400\n",
            "   macro avg       0.88      0.88      0.88       400\n",
            "weighted avg       0.88      0.88      0.88       400\n",
            "\n"
          ]
        }
      ]
    },
    {
      "cell_type": "markdown",
      "metadata": {
        "id": "lALdCf4viC6P"
      },
      "source": [
        "* **Accuracy score for train set is 1.0 and acuuracy score for test set is 0.88. Our model overfitted training data.**"
      ]
    },
    {
      "cell_type": "code",
      "metadata": {
        "id": "F6mM7HJ7iAvY"
      },
      "source": [
        "# storing metric values in train df for later comparisons\n",
        "\n",
        "dict1={'Model':'Random Forest - Before hyperparameter tuning',\n",
        "       'Accuracy':round(accuracy_score(y_train,y_pred_train1),2),\n",
        "       'Precision':[list(np.around(precision_score(y_train,y_pred_train1,average=None),decimals=2))],\n",
        "       'Recall':[list(np.around(recall_score(y_train,y_pred_train1,average=None),decimals=2))],\n",
        "       'F1_score':[list(np.around(f1_score(y_train,y_pred_train1,average=None),decimals=2))],\n",
        "       'Comments':'Possible overfitting'}\n",
        "training_df=pd.DataFrame(dict1,index=[0])"
      ],
      "execution_count": 101,
      "outputs": []
    },
    {
      "cell_type": "code",
      "metadata": {
        "id": "3WuVftZPib6J"
      },
      "source": [
        "# storing metric values in test df for later comparisons\n",
        "\n",
        "dict2={'Model':'Random Forest - Before hyperparameter tuning',\n",
        "       'Accuracy':round(accuracy_score(y_test,y_pred_test1),2),\n",
        "       'Precision':[list(np.around(precision_score(y_test,y_pred_test1,average=None),decimals=2))],\n",
        "       'Recall':[list(np.around(recall_score(y_test,y_pred_test1,average=None),decimals=2))],\n",
        "       'F1_score':[list(np.around(f1_score(y_test,y_pred_test1,average=None),decimals=2))],\n",
        "       'Comments':'Possible overfitting'}\n",
        "test_df=pd.DataFrame(dict2,index=[0])"
      ],
      "execution_count": 102,
      "outputs": []
    },
    {
      "cell_type": "markdown",
      "metadata": {
        "id": "AQBabuixik5M"
      },
      "source": [
        "### **Now let's tune hyperparameter using BayesSearchCV.**"
      ]
    },
    {
      "cell_type": "code",
      "metadata": {
        "colab": {
          "base_uri": "https://localhost:8080/"
        },
        "id": "zDpYRIuSifD1",
        "outputId": "fdc048af-055d-4253-fe17-f0f5abad9746"
      },
      "source": [
        "# installing Bayes Search\n",
        "\n",
        "! pip install scikit-optimize\n",
        "from skopt import BayesSearchCV"
      ],
      "execution_count": 105,
      "outputs": [
        {
          "output_type": "stream",
          "name": "stdout",
          "text": [
            "Collecting scikit-optimize\n",
            "  Downloading scikit_optimize-0.8.1-py2.py3-none-any.whl (101 kB)\n",
            "\u001b[?25l\r\u001b[K     |███▎                            | 10 kB 21.0 MB/s eta 0:00:01\r\u001b[K     |██████▌                         | 20 kB 27.7 MB/s eta 0:00:01\r\u001b[K     |█████████▊                      | 30 kB 27.4 MB/s eta 0:00:01\r\u001b[K     |█████████████                   | 40 kB 20.2 MB/s eta 0:00:01\r\u001b[K     |████████████████▏               | 51 kB 8.8 MB/s eta 0:00:01\r\u001b[K     |███████████████████▍            | 61 kB 9.1 MB/s eta 0:00:01\r\u001b[K     |██████████████████████▊         | 71 kB 7.7 MB/s eta 0:00:01\r\u001b[K     |██████████████████████████      | 81 kB 8.6 MB/s eta 0:00:01\r\u001b[K     |█████████████████████████████▏  | 92 kB 8.8 MB/s eta 0:00:01\r\u001b[K     |████████████████████████████████| 101 kB 5.4 MB/s \n",
            "\u001b[?25hCollecting pyaml>=16.9\n",
            "  Downloading pyaml-21.8.3-py2.py3-none-any.whl (17 kB)\n",
            "Requirement already satisfied: numpy>=1.13.3 in /usr/local/lib/python3.7/dist-packages (from scikit-optimize) (1.19.5)\n",
            "Requirement already satisfied: scipy>=0.19.1 in /usr/local/lib/python3.7/dist-packages (from scikit-optimize) (1.4.1)\n",
            "Requirement already satisfied: scikit-learn>=0.20.0 in /usr/local/lib/python3.7/dist-packages (from scikit-optimize) (0.22.2.post1)\n",
            "Requirement already satisfied: joblib>=0.11 in /usr/local/lib/python3.7/dist-packages (from scikit-optimize) (1.0.1)\n",
            "Requirement already satisfied: PyYAML in /usr/local/lib/python3.7/dist-packages (from pyaml>=16.9->scikit-optimize) (3.13)\n",
            "Installing collected packages: pyaml, scikit-optimize\n",
            "Successfully installed pyaml-21.8.3 scikit-optimize-0.8.1\n"
          ]
        }
      ]
    },
    {
      "cell_type": "code",
      "metadata": {
        "colab": {
          "base_uri": "https://localhost:8080/"
        },
        "id": "SCylmZfbjMsY",
        "outputId": "ba48c022-8814-4169-d05e-691dcf150456"
      },
      "source": [
        "# creating a bayes model\n",
        "rf_bayes = BayesSearchCV(estimator=rf,\n",
        "                       search_spaces = {\n",
        "                          'max_depth': (4,8),\n",
        "                          'min_samples_leaf': (10,100),\n",
        "                          'min_samples_split': (50,150),\n",
        "                          'n_estimators': (80,200)\n",
        "                        },\n",
        "                       cv = 5, scoring='accuracy',random_state=12)\n",
        "\n",
        "rf_bayes.fit(X_train,y_train)"
      ],
      "execution_count": 106,
      "outputs": [
        {
          "output_type": "execute_result",
          "data": {
            "text/plain": [
              "BayesSearchCV(cv=5, error_score='raise',\n",
              "              estimator=RandomForestClassifier(bootstrap=True, ccp_alpha=0.0,\n",
              "                                               class_weight=None,\n",
              "                                               criterion='gini', max_depth=None,\n",
              "                                               max_features='auto',\n",
              "                                               max_leaf_nodes=None,\n",
              "                                               max_samples=None,\n",
              "                                               min_impurity_decrease=0.0,\n",
              "                                               min_impurity_split=None,\n",
              "                                               min_samples_leaf=1,\n",
              "                                               min_samples_split=2,\n",
              "                                               min_weight_fraction_leaf=0.0,\n",
              "                                               n_estimators=100, n_jobs=...\n",
              "                                               oob_score=False, random_state=12,\n",
              "                                               verbose=0, warm_start=False),\n",
              "              fit_params=None, iid=True, n_iter=50, n_jobs=1, n_points=1,\n",
              "              optimizer_kwargs=None, pre_dispatch='2*n_jobs', random_state=12,\n",
              "              refit=True, return_train_score=False, scoring='accuracy',\n",
              "              search_spaces={'max_depth': (4, 8), 'min_samples_leaf': (10, 100),\n",
              "                             'min_samples_split': (50, 150),\n",
              "                             'n_estimators': (80, 200)},\n",
              "              verbose=0)"
            ]
          },
          "metadata": {},
          "execution_count": 106
        }
      ]
    },
    {
      "cell_type": "code",
      "metadata": {
        "colab": {
          "base_uri": "https://localhost:8080/"
        },
        "id": "9H8RbjrGjtVY",
        "outputId": "1b6e32e5-b371-431a-db9f-225c7e2f733a"
      },
      "source": [
        "# checking the best estimator\n",
        "\n",
        "rf_bayes.best_estimator_"
      ],
      "execution_count": 107,
      "outputs": [
        {
          "output_type": "execute_result",
          "data": {
            "text/plain": [
              "RandomForestClassifier(bootstrap=True, ccp_alpha=0.0, class_weight=None,\n",
              "                       criterion='gini', max_depth=8, max_features='auto',\n",
              "                       max_leaf_nodes=None, max_samples=None,\n",
              "                       min_impurity_decrease=0.0, min_impurity_split=None,\n",
              "                       min_samples_leaf=10, min_samples_split=50,\n",
              "                       min_weight_fraction_leaf=0.0, n_estimators=200,\n",
              "                       n_jobs=None, oob_score=False, random_state=12, verbose=0,\n",
              "                       warm_start=False)"
            ]
          },
          "metadata": {},
          "execution_count": 107
        }
      ]
    },
    {
      "cell_type": "code",
      "metadata": {
        "colab": {
          "base_uri": "https://localhost:8080/"
        },
        "id": "5qKEQrE8pWcP",
        "outputId": "3ce40aa0-3637-4948-c96c-b809f2ce9883"
      },
      "source": [
        "# checking the best parameters\n",
        "\n",
        "rf_bayes.best_params_"
      ],
      "execution_count": 108,
      "outputs": [
        {
          "output_type": "execute_result",
          "data": {
            "text/plain": [
              "OrderedDict([('max_depth', 8),\n",
              "             ('min_samples_leaf', 10),\n",
              "             ('min_samples_split', 50),\n",
              "             ('n_estimators', 200)])"
            ]
          },
          "metadata": {},
          "execution_count": 108
        }
      ]
    },
    {
      "cell_type": "code",
      "metadata": {
        "id": "F-BtOdLKpY-Y"
      },
      "source": [
        "# storing the best estimator in a variable\n",
        "\n",
        "rf_optimal_model=rf_bayes.best_estimator_"
      ],
      "execution_count": 109,
      "outputs": []
    },
    {
      "cell_type": "code",
      "metadata": {
        "id": "iC85nxd9piKR"
      },
      "source": [
        "# predicting on both train and test\n",
        "\n",
        "y_pred_train2=rf_optimal_model.predict(X_train)\n",
        "y_pred_test2=rf_optimal_model.predict(X_test)"
      ],
      "execution_count": 110,
      "outputs": []
    },
    {
      "cell_type": "code",
      "metadata": {
        "colab": {
          "base_uri": "https://localhost:8080/"
        },
        "id": "9SUgPZADqGpa",
        "outputId": "29a0a279-10e3-47a1-b54d-c9f435d04c40"
      },
      "source": [
        "# evalutaing the model using metrics\n",
        "# finding each of the metrics for training set\n",
        "\n",
        "print('The evaluation metric values for training set - Random forest:')\n",
        "print('The accuracy of training set = ',accuracy_score(y_train,y_pred_train2))\n",
        "print('The precision of training set = ',precision_score(y_train,y_pred_train2,average=None))\n",
        "print('The recall of training set = ',recall_score(y_train,y_pred_train2,average=None))\n",
        "print('The f1 score of training set = ',f1_score(y_train,y_pred_train2,average=None))\n",
        "print('The confusion matrix of training set = \\n',confusion_matrix(y_train,y_pred_train2))"
      ],
      "execution_count": 111,
      "outputs": [
        {
          "output_type": "stream",
          "name": "stdout",
          "text": [
            "The evaluation metric values for training set - Random forest:\n",
            "The accuracy of training set =  0.91\n",
            "The precision of training set =  [0.92307692 0.86614173 0.88860759 0.95833333]\n",
            "The recall of training set =  [0.96482412 0.83544304 0.86666667 0.97263682]\n",
            "The f1 score of training set =  [0.94348894 0.85051546 0.8775     0.9654321 ]\n",
            "The confusion matrix of training set = \n",
            " [[384  14   0   0]\n",
            " [ 32 330  33   0]\n",
            " [  0  37 351  17]\n",
            " [  0   0  11 391]]\n"
          ]
        }
      ]
    },
    {
      "cell_type": "code",
      "metadata": {
        "colab": {
          "base_uri": "https://localhost:8080/"
        },
        "id": "CQWna96PqRa0",
        "outputId": "37e70cbc-3e6d-4f74-d62a-3020cd37a206"
      },
      "source": [
        "# finding each of the metrics for test set\n",
        "\n",
        "print('The evaluation metric values for test set - Random forest:')\n",
        "print('The accuracy of test set = ',accuracy_score(y_test,y_pred_test2))\n",
        "print('The precision of test set = ',precision_score(y_test,y_pred_test2,average=None))\n",
        "print('The recall of test set = ',recall_score(y_test,y_pred_test2,average=None))\n",
        "print('The f1 score of test set = ',f1_score(y_test,y_pred_test2,average=None))\n",
        "print('The confusion matrix of test set = \\n',confusion_matrix(y_test,y_pred_test2))"
      ],
      "execution_count": 112,
      "outputs": [
        {
          "output_type": "stream",
          "name": "stdout",
          "text": [
            "The evaluation metric values for test set - Random forest:\n",
            "The accuracy of test set =  0.8575\n",
            "The precision of test set =  [0.91428571 0.83505155 0.76767677 0.90909091]\n",
            "The recall of test set =  [0.94117647 0.77142857 0.8        0.91836735]\n",
            "The f1 score of test set =  [0.92753623 0.8019802  0.78350515 0.91370558]\n",
            "The confusion matrix of test set = \n",
            " [[96  6  0  0]\n",
            " [ 9 81 15  0]\n",
            " [ 0 10 76  9]\n",
            " [ 0  0  8 90]]\n"
          ]
        }
      ]
    },
    {
      "cell_type": "code",
      "metadata": {
        "colab": {
          "base_uri": "https://localhost:8080/"
        },
        "id": "iO43WUjgqZxf",
        "outputId": "f849eb47-2a6f-466c-91eb-08584f4bc144"
      },
      "source": [
        "# checking classification report for test set\n",
        "\n",
        "print(classification_report(y_test,y_pred_test2))"
      ],
      "execution_count": 114,
      "outputs": [
        {
          "output_type": "stream",
          "name": "stdout",
          "text": [
            "              precision    recall  f1-score   support\n",
            "\n",
            "           0       0.91      0.94      0.93       102\n",
            "           1       0.84      0.77      0.80       105\n",
            "           2       0.77      0.80      0.78        95\n",
            "           3       0.91      0.92      0.91        98\n",
            "\n",
            "    accuracy                           0.86       400\n",
            "   macro avg       0.86      0.86      0.86       400\n",
            "weighted avg       0.86      0.86      0.86       400\n",
            "\n"
          ]
        }
      ]
    },
    {
      "cell_type": "markdown",
      "metadata": {
        "id": "b7eAkFYoqnZq"
      },
      "source": [
        "**Accuracy score for train set is 0.91 and acuuracy score for test set is 0.86.**\n",
        "\n",
        "**Not bad. Better than default hyperparameters.**"
      ]
    },
    {
      "cell_type": "code",
      "metadata": {
        "id": "3R7b5mi_qdSZ"
      },
      "source": [
        "# storing metric values in train df for later comparisons\n",
        "\n",
        "dict1={'Model':'Random Forest - After hyperparameter tuning',\n",
        "       'Accuracy':round(accuracy_score(y_train,y_pred_train2),2),\n",
        "       'Precision':[list(np.around(precision_score(y_train,y_pred_train2,average=None),decimals=2))],\n",
        "       'Recall':[list(np.around(recall_score(y_train,y_pred_train2,average=None),decimals=2))],\n",
        "       'F1_score':[list(np.around(f1_score(y_train,y_pred_train2,average=None),decimals=2))],\n",
        "       'Comments':'Reduced overfitting'}\n",
        "training_df=training_df.append(dict1,ignore_index=True)"
      ],
      "execution_count": 115,
      "outputs": []
    },
    {
      "cell_type": "code",
      "metadata": {
        "id": "DWdrRn0ArlWk"
      },
      "source": [
        "# storing metric values in test df for later comparisons\n",
        "\n",
        "dict2={'Model':'Random Forest - After hyperparameter tuning',\n",
        "       'Accuracy':round(accuracy_score(y_test,y_pred_test2),2),\n",
        "       'Precision':[list(np.around(precision_score(y_test,y_pred_test2,average=None),decimals=2))],\n",
        "       'Recall':[list(np.around(recall_score(y_test,y_pred_test2,average=None),decimals=2))],\n",
        "       'F1_score':[list(np.around(f1_score(y_test,y_pred_test2,average=None),decimals=2))],\n",
        "       'Comments':'Reduced overfitting'}\n",
        "test_df=test_df.append(dict2,ignore_index=True)"
      ],
      "execution_count": 116,
      "outputs": []
    },
    {
      "cell_type": "code",
      "metadata": {
        "id": "4PGgZW6OrrGg"
      },
      "source": [
        ""
      ],
      "execution_count": null,
      "outputs": []
    }
  ]
}